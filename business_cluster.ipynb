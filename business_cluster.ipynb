{
  "nbformat": 4,
  "nbformat_minor": 0,
  "metadata": {
    "kernelspec": {
      "display_name": "Python 3",
      "language": "python",
      "name": "python3"
    },
    "language_info": {
      "codemirror_mode": {
        "name": "ipython",
        "version": 3
      },
      "file_extension": ".py",
      "mimetype": "text/x-python",
      "name": "python",
      "nbconvert_exporter": "python",
      "pygments_lexer": "ipython3",
      "version": "3.8.3"
    },
    "colab": {
      "name": "business_cluster.ipynb",
      "provenance": [],
      "collapsed_sections": [],
      "include_colab_link": true
    }
  },
  "cells": [
    {
      "cell_type": "markdown",
      "metadata": {
        "id": "view-in-github",
        "colab_type": "text"
      },
      "source": [
        "<a href=\"https://colab.research.google.com/github/IsaiahAim/EuropeanTechOrganizationCluster/blob/main/business_cluster.ipynb\" target=\"_parent\"><img src=\"https://colab.research.google.com/assets/colab-badge.svg\" alt=\"Open In Colab\"/></a>"
      ]
    },
    {
      "cell_type": "code",
      "metadata": {
        "id": "0eKqqOyo0xgL"
      },
      "source": [
        "import os\n",
        "import pandas as pd\n",
        "import numpy as np\n",
        "from matplotlib import pyplot as plt\n",
        "from IPython.display import Image\n",
        "from IPython.core.display import HTML\n",
        "from sklearn.preprocessing import scale,RobustScaler,StandardScaler, MinMaxScaler\n",
        "\n",
        "\n"
      ],
      "execution_count": null,
      "outputs": []
    },
    {
      "cell_type": "code",
      "metadata": {
        "id": "jl34AOjS0xgN"
      },
      "source": [
        "# load data\n",
        "data=pd.read_csv('tech_organization.csv',encoding= 'unicode_escape')"
      ],
      "execution_count": null,
      "outputs": []
    },
    {
      "cell_type": "code",
      "metadata": {
        "id": "V-L7OQfP0xgO",
        "outputId": "698a0ec4-ecc9-45ab-a51c-b1126d620ffd"
      },
      "source": [
        "data.head(2)"
      ],
      "execution_count": null,
      "outputs": [
        {
          "output_type": "execute_result",
          "data": {
            "text/html": [
              "<div>\n",
              "<style scoped>\n",
              "    .dataframe tbody tr th:only-of-type {\n",
              "        vertical-align: middle;\n",
              "    }\n",
              "\n",
              "    .dataframe tbody tr th {\n",
              "        vertical-align: top;\n",
              "    }\n",
              "\n",
              "    .dataframe thead th {\n",
              "        text-align: right;\n",
              "    }\n",
              "</style>\n",
              "<table border=\"1\" class=\"dataframe\">\n",
              "  <thead>\n",
              "    <tr style=\"text-align: right;\">\n",
              "      <th></th>\n",
              "      <th>name</th>\n",
              "      <th>ID</th>\n",
              "      <th>description</th>\n",
              "      <th>comment</th>\n",
              "      <th>url</th>\n",
              "      <th>city</th>\n",
              "      <th>city id</th>\n",
              "      <th>country</th>\n",
              "      <th>country id</th>\n",
              "      <th>linkedin</th>\n",
              "      <th>...</th>\n",
              "      <th>logo</th>\n",
              "      <th>acquired?</th>\n",
              "      <th>acquisition price</th>\n",
              "      <th>breakout</th>\n",
              "      <th>image (only for Breakout)</th>\n",
              "      <th>COVID {up | down | stable}</th>\n",
              "      <th>investor 1 (required)</th>\n",
              "      <th>investor 2</th>\n",
              "      <th>CB score</th>\n",
              "      <th>ST score</th>\n",
              "    </tr>\n",
              "  </thead>\n",
              "  <tbody>\n",
              "    <tr>\n",
              "      <th>0</th>\n",
              "      <td>Riskified</td>\n",
              "      <td>NaN</td>\n",
              "      <td>Riskified designs an e-commerce fraud-preventi...</td>\n",
              "      <td>NaN</td>\n",
              "      <td>riskified.com/</td>\n",
              "      <td>Tel Aviv</td>\n",
              "      <td>1</td>\n",
              "      <td>Israel</td>\n",
              "      <td>10</td>\n",
              "      <td>https://www.linkedin.com/company/riskified/</td>\n",
              "      <td>...</td>\n",
              "      <td>riskified</td>\n",
              "      <td>NaN</td>\n",
              "      <td>NaN</td>\n",
              "      <td>NaN</td>\n",
              "      <td>NaN</td>\n",
              "      <td>up</td>\n",
              "      <td>General Atlantic</td>\n",
              "      <td>Phoenix Insurance Company</td>\n",
              "      <td>1661</td>\n",
              "      <td>NaN</td>\n",
              "    </tr>\n",
              "    <tr>\n",
              "      <th>1</th>\n",
              "      <td>Fabric</td>\n",
              "      <td>NaN</td>\n",
              "      <td>Fabric is a company that builds a supply-chain...</td>\n",
              "      <td>NaN</td>\n",
              "      <td>getfabric.com/</td>\n",
              "      <td>Tel Aviv</td>\n",
              "      <td>1</td>\n",
              "      <td>Israel</td>\n",
              "      <td>10</td>\n",
              "      <td>http://linkedin.com/company/fabriclogistics/</td>\n",
              "      <td>...</td>\n",
              "      <td>getfabric</td>\n",
              "      <td>NaN</td>\n",
              "      <td>NaN</td>\n",
              "      <td>NaN</td>\n",
              "      <td>NaN</td>\n",
              "      <td>down</td>\n",
              "      <td>Playground Global</td>\n",
              "      <td>Temasek Holdings</td>\n",
              "      <td>261</td>\n",
              "      <td>NaN</td>\n",
              "    </tr>\n",
              "  </tbody>\n",
              "</table>\n",
              "<p>2 rows × 29 columns</p>\n",
              "</div>"
            ],
            "text/plain": [
              "        name  ID                                        description comment  \\\n",
              "0  Riskified NaN  Riskified designs an e-commerce fraud-preventi...     NaN   \n",
              "1     Fabric NaN  Fabric is a company that builds a supply-chain...     NaN   \n",
              "\n",
              "              url      city  city id country country id  \\\n",
              "0  riskified.com/  Tel Aviv        1  Israel         10   \n",
              "1  getfabric.com/  Tel Aviv        1  Israel         10   \n",
              "\n",
              "                                       linkedin  ...       logo acquired?  \\\n",
              "0   https://www.linkedin.com/company/riskified/  ...  riskified       NaN   \n",
              "1  http://linkedin.com/company/fabriclogistics/  ...  getfabric       NaN   \n",
              "\n",
              "  acquisition price breakout image (only for Breakout)  \\\n",
              "0               NaN      NaN                       NaN   \n",
              "1               NaN      NaN                       NaN   \n",
              "\n",
              "  COVID {up | down | stable} investor 1 (required)                 investor 2  \\\n",
              "0                         up      General Atlantic  Phoenix Insurance Company   \n",
              "1                       down     Playground Global           Temasek Holdings   \n",
              "\n",
              "  CB score ST score  \n",
              "0     1661      NaN  \n",
              "1      261      NaN  \n",
              "\n",
              "[2 rows x 29 columns]"
            ]
          },
          "metadata": {
            "tags": []
          },
          "execution_count": 283
        }
      ]
    },
    {
      "cell_type": "code",
      "metadata": {
        "id": "2Obds-zm0xgP",
        "outputId": "72a20a72-0321-4ba3-ff87-cb261f981cac"
      },
      "source": [
        "#missing data\n",
        "total = data.isnull().sum().sort_values(ascending=False)\n",
        "percent = (data.isnull().sum()/data.isnull().count()).sort_values(ascending=False)\n",
        "missing_data = pd.concat([total, percent], axis=1, keys=['Total', 'Percent'])\n",
        "missing_data.head(20)"
      ],
      "execution_count": null,
      "outputs": [
        {
          "output_type": "execute_result",
          "data": {
            "text/html": [
              "<div>\n",
              "<style scoped>\n",
              "    .dataframe tbody tr th:only-of-type {\n",
              "        vertical-align: middle;\n",
              "    }\n",
              "\n",
              "    .dataframe tbody tr th {\n",
              "        vertical-align: top;\n",
              "    }\n",
              "\n",
              "    .dataframe thead th {\n",
              "        text-align: right;\n",
              "    }\n",
              "</style>\n",
              "<table border=\"1\" class=\"dataframe\">\n",
              "  <thead>\n",
              "    <tr style=\"text-align: right;\">\n",
              "      <th></th>\n",
              "      <th>Total</th>\n",
              "      <th>Percent</th>\n",
              "    </tr>\n",
              "  </thead>\n",
              "  <tbody>\n",
              "    <tr>\n",
              "      <th>ST score</th>\n",
              "      <td>9279</td>\n",
              "      <td>1.000000</td>\n",
              "    </tr>\n",
              "    <tr>\n",
              "      <th>ID</th>\n",
              "      <td>9279</td>\n",
              "      <td>1.000000</td>\n",
              "    </tr>\n",
              "    <tr>\n",
              "      <th>comment</th>\n",
              "      <td>9278</td>\n",
              "      <td>0.999892</td>\n",
              "    </tr>\n",
              "    <tr>\n",
              "      <th>acquisition price</th>\n",
              "      <td>9277</td>\n",
              "      <td>0.999784</td>\n",
              "    </tr>\n",
              "    <tr>\n",
              "      <th>image (only for Breakout)</th>\n",
              "      <td>9258</td>\n",
              "      <td>0.997737</td>\n",
              "    </tr>\n",
              "    <tr>\n",
              "      <th>breakout</th>\n",
              "      <td>9258</td>\n",
              "      <td>0.997737</td>\n",
              "    </tr>\n",
              "    <tr>\n",
              "      <th>COVID {up | down | stable}</th>\n",
              "      <td>9185</td>\n",
              "      <td>0.989870</td>\n",
              "    </tr>\n",
              "    <tr>\n",
              "      <th>tag 3</th>\n",
              "      <td>8801</td>\n",
              "      <td>0.948486</td>\n",
              "    </tr>\n",
              "    <tr>\n",
              "      <th>acquired?</th>\n",
              "      <td>7883</td>\n",
              "      <td>0.849553</td>\n",
              "    </tr>\n",
              "    <tr>\n",
              "      <th>investor 2</th>\n",
              "      <td>5539</td>\n",
              "      <td>0.596939</td>\n",
              "    </tr>\n",
              "    <tr>\n",
              "      <th>tag 2</th>\n",
              "      <td>4065</td>\n",
              "      <td>0.438086</td>\n",
              "    </tr>\n",
              "    <tr>\n",
              "      <th>last funding amount (in USD)</th>\n",
              "      <td>3966</td>\n",
              "      <td>0.427417</td>\n",
              "    </tr>\n",
              "    <tr>\n",
              "      <th>investor 1 (required)</th>\n",
              "      <td>3626</td>\n",
              "      <td>0.390775</td>\n",
              "    </tr>\n",
              "    <tr>\n",
              "      <th>total money raised (in USD)</th>\n",
              "      <td>3449</td>\n",
              "      <td>0.371700</td>\n",
              "    </tr>\n",
              "    <tr>\n",
              "      <th>last funding type</th>\n",
              "      <td>2784</td>\n",
              "      <td>0.300032</td>\n",
              "    </tr>\n",
              "    <tr>\n",
              "      <th>last funding date (in Europe Date Format)</th>\n",
              "      <td>2779</td>\n",
              "      <td>0.299493</td>\n",
              "    </tr>\n",
              "    <tr>\n",
              "      <th>twitter</th>\n",
              "      <td>2334</td>\n",
              "      <td>0.251536</td>\n",
              "    </tr>\n",
              "    <tr>\n",
              "      <th>tag 1 (required)</th>\n",
              "      <td>2197</td>\n",
              "      <td>0.236771</td>\n",
              "    </tr>\n",
              "    <tr>\n",
              "      <th>linkedin</th>\n",
              "      <td>1600</td>\n",
              "      <td>0.172432</td>\n",
              "    </tr>\n",
              "    <tr>\n",
              "      <th>company size</th>\n",
              "      <td>1075</td>\n",
              "      <td>0.115853</td>\n",
              "    </tr>\n",
              "  </tbody>\n",
              "</table>\n",
              "</div>"
            ],
            "text/plain": [
              "                                           Total   Percent\n",
              "ST score                                    9279  1.000000\n",
              "ID                                          9279  1.000000\n",
              "comment                                     9278  0.999892\n",
              "acquisition price                           9277  0.999784\n",
              "image (only for Breakout)                   9258  0.997737\n",
              "breakout                                    9258  0.997737\n",
              "COVID {up | down | stable}                  9185  0.989870\n",
              "tag 3                                       8801  0.948486\n",
              "acquired?                                   7883  0.849553\n",
              "investor 2                                  5539  0.596939\n",
              "tag 2                                       4065  0.438086\n",
              "last funding amount (in USD)                3966  0.427417\n",
              "investor 1 (required)                       3626  0.390775\n",
              "total money raised (in USD)                 3449  0.371700\n",
              "last funding type                           2784  0.300032\n",
              "last funding date (in Europe Date Format)   2779  0.299493\n",
              "twitter                                     2334  0.251536\n",
              "tag 1 (required)                            2197  0.236771\n",
              "linkedin                                    1600  0.172432\n",
              "company size                                1075  0.115853"
            ]
          },
          "metadata": {
            "tags": []
          },
          "execution_count": 124
        }
      ]
    },
    {
      "cell_type": "code",
      "metadata": {
        "id": "Fa9XXjpP0xgP",
        "outputId": "183cb85b-c13c-414d-e186-2adce1503ef9"
      },
      "source": [
        "data['country'].nunique()"
      ],
      "execution_count": null,
      "outputs": [
        {
          "output_type": "execute_result",
          "data": {
            "text/plain": [
              "42"
            ]
          },
          "metadata": {
            "tags": []
          },
          "execution_count": 224
        }
      ]
    },
    {
      "cell_type": "markdown",
      "metadata": {
        "id": "Gjn8LLfW0xgQ"
      },
      "source": [
        "### Feature Engineering on Numerical data\n"
      ]
    },
    {
      "cell_type": "code",
      "metadata": {
        "id": "tbN2JrYF0xgQ"
      },
      "source": [
        "num_features=['CB score','total money raised (in USD)','last funding amount (in USD)']\n",
        "numerical_df=data[num_features].copy()\n",
        "\n",
        "def remove_currency(dataframe,column=[]):\n",
        "    \"\"\" Remove currency symbol and delimiters,date strings \n",
        "         from  dataframe with \n",
        "        \"\"\"\n",
        "    try:\n",
        "        for cols in column:\n",
        "            dataframe[cols]=dataframe[cols].str.replace('$','')\n",
        "            dataframe[cols]=dataframe[cols].str.replace(r'(\\d{4}-\\d{2}-\\d{2})','')\n",
        "            dataframe[cols]=dataframe[cols].str.replace(',','')\n",
        "            dataframe[cols]=dataframe[cols].replace('',np.nan)\n",
        "            dataframe[cols]=dataframe[cols].astype(float)\n",
        "            \n",
        "    except AttributeError as e:\n",
        "            print(e)\n",
        "\n",
        "#call function to remove, currency, and date strings from numerical features\n",
        "remove_currency(numerical_df,num_features)\n",
        "\n",
        "# Simple imputation of mean of numerical columns for missing data\n",
        "for col in num_features:\n",
        "    numerical_df.fillna(numerical_df[col].mean(),inplace=True)\n",
        "\n",
        "# Standardization\n",
        "numerical_df=pd.DataFrame(StandardScaler().fit_transform(numerical_df[num_features]),index=numerical_df.index,columns=num_features)\n",
        "numerical_df=pd.DataFrame(MinMaxScaler(feature_range=(0,1)).fit_transform(numerical_df[num_features]),index=numerical_df.index,columns=num_features)"
      ],
      "execution_count": null,
      "outputs": []
    },
    {
      "cell_type": "markdown",
      "metadata": {
        "id": "CQMIJWdi0xgR"
      },
      "source": [
        "### Feature Engineering on Categorical data\n"
      ]
    },
    {
      "cell_type": "code",
      "metadata": {
        "id": "oj38UiIT0xgR"
      },
      "source": [
        "#Check for missing data\n",
        "cat_features = ['city', 'country'  ,'investor 1 (required)','investor 2' ,'last funding type' ,'tag 1 (required)','company size','acquired?']\n",
        "cat_df= data[cat_features].copy()\n",
        "\n",
        "#Fill all missing values of the acquired column with not_acquired. \n",
        "cat_df['acquired_Imputed']=cat_df['acquired?'].fillna('not_acquired')\n",
        "\n",
        "#Format replace datetime in company size to nan\n",
        "\n",
        "cat_df['company size']=cat_df['company size'].str.replace(r'(\\d{4}-\\d{2}-\\d{2})','')\n",
        "cat_df['company size']=cat_df['company size'].replace('',np.nan)\n",
        "\n",
        "#Function to replace NAN values with mode value\n",
        "def impute_nan_most_frequent_category(DataFrame,ColName):\n",
        "    # .mode()[0] - gives first category name\n",
        "    most_frequent_category=DataFrame[ColName].mode()[0]\n",
        "    \n",
        "    # replace nan values with most occured category\n",
        "    DataFrame[ColName + \"_Imputed\"] = DataFrame[ColName]\n",
        "    DataFrame[ColName + \"_Imputed\"].fillna(most_frequent_category,inplace=True)\n",
        "    \n",
        "# Call function to impute most occured category\n",
        "for Columns in cat_features:\n",
        "    impute_nan_most_frequent_category(cat_df,Columns)\n",
        "\n",
        "\n",
        "#new name of features after imputation\n",
        "cat_features_imputed=[cols+\"_Imputed\" for cols in cat_features]\n",
        "\n",
        "# Display imputed result\n",
        "cat_df[cat_features_imputed]\n",
        "\n",
        "#3. Drop actual columns\n",
        "cat_df = cat_df.drop(cat_features, axis = 1)\n",
        "\n",
        "#Transform Company SIZE to ordinal features, since the struture is hiereichical\n",
        "def format_company_size(dataframe, column):\n",
        "    for index in dataframe.index:\n",
        "        if dataframe.loc[index,column]=='10001':\n",
        "             dataframe.loc[index,column] = '1001-5000'\n",
        "        elif dataframe.loc[index,column]=='70':\n",
        "             dataframe.loc[index,column] = '51-100'\n",
        "        elif dataframe.loc[index,column]=='43840':\n",
        "             dataframe.loc[index,column]='10000 and above'\n",
        "    \n",
        "    dataframe[column] = dataframe[column].map({'1-10':0,'11-50':1,'51-100':2,'101-250':3,\n",
        "                                               '251-500':4,'501-1000':5,'1001-5000':6,\n",
        "                                               '5001-10000':7,'10000 and above':8})\n",
        "format_company(cat_df,'company size_Imputed')\n",
        "\n",
        "\n",
        "#useful_cols[useful_cols['company size']==1]\n",
        "mx = MinMaxScaler(feature_range=(0,1))\n",
        "ordinal_features = pd.DataFrame(mx.fit_transform(cat_df[['company size_Imputed']]),index=cat_df.index,columns=['company size_Imputed'])\n",
        "\n",
        "\n",
        "#Tranform categorical data to nominal features\n",
        "cat_features_imputed.remove('company size_Imputed')\n",
        "nominal_features = pd.get_dummies(cat_df[cat_features_imputed])\n",
        "\n",
        "\n",
        "\n",
        "\n"
      ],
      "execution_count": null,
      "outputs": []
    },
    {
      "cell_type": "markdown",
      "metadata": {
        "id": "oIkQfqKp0xgS"
      },
      "source": [
        "## model"
      ]
    },
    {
      "cell_type": "code",
      "metadata": {
        "id": "WFGWijnh0xgS",
        "outputId": "04aa36e3-c4fe-4261-cf21-e6b130db745b"
      },
      "source": [
        "scaled_data = pd.concat([numerical_features,nominal_features,ordinal_features],axis=1)\n",
        "wcss = []  #within-cluster sum-of-squares\n",
        "for i in range(1,11):\n",
        "    kmeans = KMeans(n_clusters=i, init= 'k-means++', max_iter= 100, n_init=5, random_state=0)\n",
        "    kmeans.fit(scaled_data)\n",
        "    wcss.append(kmeans.inertia_)\n",
        "plt.plot(range(1,11),wcss)\n",
        "plt.title('The Elbow Method')\n",
        "plt.xlabel('Number of clusters')\n",
        "plt.ylabel('WCSS')\n",
        "plt.show()"
      ],
      "execution_count": null,
      "outputs": [
        {
          "output_type": "display_data",
          "data": {
            "image/png": "[encoded data removed]",
            "text/plain": [
              "<Figure size 432x288 with 1 Axes>"
            ]
          },
          "metadata": {
            "tags": [],
            "needs_background": "light"
          }
        }
      ]
    },
    {
      "cell_type": "code",
      "metadata": {
        "id": "PcdjVHir0xgT"
      },
      "source": [
        "from sklearn.cluster import KMeans\n",
        "# fit cluster model and assign points to clusters\n",
        "n_clusters=8\n",
        "kmeans = KMeans(n_clusters)\n",
        "kmeans.fit(scaled_data)\n",
        "clusters = kmeans.predict(scaled_data)\n"
      ],
      "execution_count": null,
      "outputs": []
    },
    {
      "cell_type": "markdown",
      "metadata": {
        "id": "_4O9Dj4Q0xgT"
      },
      "source": [
        "### Generating Output\n"
      ]
    },
    {
      "cell_type": "code",
      "metadata": {
        "id": "TbkW3EOU0xgT"
      },
      "source": [
        "#Create dataframe for grouping the clusters \n",
        "cluster_map = pd.DataFrame()\n",
        "cluster_map['data_index'] = data.index.values\n",
        "cluster_map['Group'] = kmeans.labels_\n",
        "\n",
        "#Merge clusters with details from actual data\n",
        "\n",
        "final_output=pd.merge(left=cluster_map, left_index=True,\n",
        "                  right=data, right_index=True,\n",
        "                  how='inner')\n",
        "\n",
        "\n",
        "final_output.to_csv('international_company_groups.csv')"
      ],
      "execution_count": null,
      "outputs": []
    },
    {
      "cell_type": "code",
      "metadata": {
        "id": "ctBxAgGb0xgU"
      },
      "source": [
        ""
      ],
      "execution_count": null,
      "outputs": []
    },
    {
      "cell_type": "code",
      "metadata": {
        "id": "chPD_KiO0xgU"
      },
      "source": [
        ""
      ],
      "execution_count": null,
      "outputs": []
    },
    {
      "cell_type": "code",
      "metadata": {
        "id": "Trgqlnhk0xgU"
      },
      "source": [
        ""
      ],
      "execution_count": null,
      "outputs": []
    }
  ]
}